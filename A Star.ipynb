{
 "cells": [
  {
   "cell_type": "code",
   "execution_count": 38,
   "id": "460a0026-36db-4067-9f2f-0e9dc2c20262",
   "metadata": {},
   "outputs": [
    {
     "name": "stdout",
     "output_type": "stream",
     "text": [
      "Shortest Path: ['A', 'B', 'D', 'G']\n",
      "Total Cost: 5\n"
     ]
    }
   ],
   "source": [
    "import heapq\n",
    "\n",
    "class Node:\n",
    "    def __init__(self, name, g=0, h=0):\n",
    "        self.name = name\n",
    "        self.g = g  # cost from start node\n",
    "        self.h = h  # heuristic cost to goal\n",
    "        self.f = g + h  # total cost\n",
    "        self.parent = None\n",
    "    \n",
    "    def __lt__(self, other):\n",
    "        return self.f < other.f\n",
    "\n",
    "def a_star(graph, start, goal, heuristic):\n",
    "    open_list = []\n",
    "    heapq.heappush(open_list, Node(start, 0, heuristic[start]))\n",
    "    closed_list = set()\n",
    "\n",
    "    while open_list:\n",
    "        cur_node = heapq.heappop(open_list)\n",
    "        \n",
    "        # If goal node is reached, reconstruct path\n",
    "        if cur_node.name == goal:\n",
    "            path = []\n",
    "            total_cost = cur_node.g  # The g value here is the total cost to reach the goal\n",
    "            while cur_node:\n",
    "                path.append(cur_node.name)\n",
    "                cur_node = cur_node.parent\n",
    "            return path[::-1], total_cost  # return path and total cost\n",
    "        \n",
    "        closed_list.add(cur_node.name)\n",
    "\n",
    "        # Explore neighbors\n",
    "        for neighbor, cost in graph[cur_node.name].items():\n",
    "            if neighbor in closed_list:\n",
    "                continue\n",
    "\n",
    "            g_cost = cur_node.g + cost\n",
    "            h_cost = heuristic[neighbor]\n",
    "            neighbor_node = Node(neighbor, g_cost, h_cost)\n",
    "            neighbor_node.parent = cur_node\n",
    "            heapq.heappush(open_list, neighbor_node)\n",
    "\n",
    "    return None, 0  # return None if no path found\n",
    "\n",
    "# Define the graph and heuristics\n",
    "graph = {\n",
    "    'A': {'B': 1, 'C': 4},\n",
    "    'B': {'A': 1, 'D': 2, 'E': 5},\n",
    "    'C': {'A': 4, 'F': 1},\n",
    "    'D': {'B': 2, 'G': 2},\n",
    "    'E': {'B': 5},\n",
    "    'F': {'C': 1, 'G': 3},\n",
    "    'G': {'D': 2, 'F': 3}\n",
    "}\n",
    "\n",
    "heuristic = {'A': 6, 'B': 4, 'C': 4, 'D': 3, 'E': 2, 'F': 2, 'G': 0}\n",
    "start = 'A'\n",
    "goal = 'G'\n",
    "\n",
    "path, cost = a_star(graph, start, goal, heuristic)\n",
    "print(f\"Shortest Path: {path}\\nTotal Cost: {cost}\")\n"
   ]
  },
  {
   "cell_type": "code",
   "execution_count": null,
   "id": "df86e5ab-4f42-465b-8128-4a14a2358f46",
   "metadata": {},
   "outputs": [],
   "source": []
  }
 ],
 "metadata": {
  "kernelspec": {
   "display_name": "Python 3 (ipykernel)",
   "language": "python",
   "name": "python3"
  },
  "language_info": {
   "codemirror_mode": {
    "name": "ipython",
    "version": 3
   },
   "file_extension": ".py",
   "mimetype": "text/x-python",
   "name": "python",
   "nbconvert_exporter": "python",
   "pygments_lexer": "ipython3",
   "version": "3.12.7"
  }
 },
 "nbformat": 4,
 "nbformat_minor": 5
}
