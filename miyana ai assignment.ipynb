{
 "cells": [
  {
   "cell_type": "code",
   "execution_count": 3,
   "id": "1f84646c-0c05-4f4d-93ca-3164539fd8d6",
   "metadata": {},
   "outputs": [
    {
     "name": "stdout",
     "output_type": "stream",
     "text": [
      "Mean:  22.3\n",
      "Median:  21.0\n",
      "Mode:  15\n",
      "Variance:  40.67777777777778\n",
      "Standard Deviation:  6.3779132776934\n"
     ]
    }
   ],
   "source": [
    "import pandas as pd\n",
    "Data =[ 15,21,29,21,15,24,32,21,15,30] \n",
    "dt= pd.Series(Data)\n",
    "print(\"Mean: \",dt.mean())\n",
    "print(\"Median: \",dt.median())\n",
    "print(\"Mode: \",dt.mode()[0])\n",
    "print(\"Variance: \",dt.var())\n",
    "print(\"Standard Deviation: \",dt.std())"
   ]
  },
  {
   "cell_type": "code",
   "execution_count": 32,
   "id": "3dfb7fd9-1d06-4935-89e6-6d99fd0f4c6e",
   "metadata": {},
   "outputs": [
    {
     "data": {
      "text/html": [
       "<div>\n",
       "<style scoped>\n",
       "    .dataframe tbody tr th:only-of-type {\n",
       "        vertical-align: middle;\n",
       "    }\n",
       "\n",
       "    .dataframe tbody tr th {\n",
       "        vertical-align: top;\n",
       "    }\n",
       "\n",
       "    .dataframe thead th {\n",
       "        text-align: right;\n",
       "    }\n",
       "</style>\n",
       "<table border=\"1\" class=\"dataframe\">\n",
       "  <thead>\n",
       "    <tr style=\"text-align: right;\">\n",
       "      <th></th>\n",
       "      <th>Robot_ID</th>\n",
       "      <th>Task_Type</th>\n",
       "      <th>Component_ID</th>\n",
       "      <th>Sensor_Type</th>\n",
       "      <th>Sensor_Data</th>\n",
       "      <th>Processing_Time (s)</th>\n",
       "      <th>Accuracy (%)</th>\n",
       "      <th>Environmental_Status</th>\n",
       "      <th>Energy_Consumption (kWh)</th>\n",
       "      <th>Human_Intervention_Needed</th>\n",
       "      <th>Obstacle_Detected</th>\n",
       "      <th>Defect_Detected</th>\n",
       "      <th>Interaction_Count</th>\n",
       "      <th>Steps_Walked</th>\n",
       "      <th>Objects_Recognized</th>\n",
       "      <th>Learning_Sessions</th>\n",
       "      <th>Energy_Consumption (kWh).1</th>\n",
       "    </tr>\n",
       "  </thead>\n",
       "  <tbody>\n",
       "    <tr>\n",
       "      <th>0</th>\n",
       "      <td>RBT_001</td>\n",
       "      <td>Inspection</td>\n",
       "      <td>CMP_460</td>\n",
       "      <td>LIDAR</td>\n",
       "      <td>1 (obstacle detected)</td>\n",
       "      <td>67.0</td>\n",
       "      <td>90.4</td>\n",
       "      <td>Stable</td>\n",
       "      <td>2.2</td>\n",
       "      <td>No</td>\n",
       "      <td>Yes</td>\n",
       "      <td>Yes</td>\n",
       "      <td>2</td>\n",
       "      <td>10</td>\n",
       "      <td>2</td>\n",
       "      <td>10</td>\n",
       "      <td>100</td>\n",
       "    </tr>\n",
       "    <tr>\n",
       "      <th>1</th>\n",
       "      <td>RBT_002</td>\n",
       "      <td>Assembly</td>\n",
       "      <td>CMP_252</td>\n",
       "      <td>Thermal</td>\n",
       "      <td>85.3 (°C)</td>\n",
       "      <td>71.2</td>\n",
       "      <td>98.1</td>\n",
       "      <td>Stable</td>\n",
       "      <td>2.7</td>\n",
       "      <td>Yes</td>\n",
       "      <td>No</td>\n",
       "      <td>No</td>\n",
       "      <td>6</td>\n",
       "      <td>23</td>\n",
       "      <td>4</td>\n",
       "      <td>12</td>\n",
       "      <td>123</td>\n",
       "    </tr>\n",
       "    <tr>\n",
       "      <th>2</th>\n",
       "      <td>RBT_003</td>\n",
       "      <td>Inspection</td>\n",
       "      <td>CMP_248</td>\n",
       "      <td>Thermal</td>\n",
       "      <td>92% (visual fit)</td>\n",
       "      <td>49.2</td>\n",
       "      <td>95.3</td>\n",
       "      <td>Unstable</td>\n",
       "      <td>2.4</td>\n",
       "      <td>No</td>\n",
       "      <td>No</td>\n",
       "      <td>No</td>\n",
       "      <td>2</td>\n",
       "      <td>25</td>\n",
       "      <td>3</td>\n",
       "      <td>45</td>\n",
       "      <td>321</td>\n",
       "    </tr>\n",
       "    <tr>\n",
       "      <th>3</th>\n",
       "      <td>RBT_004</td>\n",
       "      <td>Welding</td>\n",
       "      <td>CMP_433</td>\n",
       "      <td>Camera</td>\n",
       "      <td>98% (defect-free)</td>\n",
       "      <td>74.5</td>\n",
       "      <td>90.2</td>\n",
       "      <td>Stable</td>\n",
       "      <td>2.4</td>\n",
       "      <td>Yes</td>\n",
       "      <td>No</td>\n",
       "      <td>Yes</td>\n",
       "      <td>7</td>\n",
       "      <td>34</td>\n",
       "      <td>5</td>\n",
       "      <td>12</td>\n",
       "      <td>456</td>\n",
       "    </tr>\n",
       "    <tr>\n",
       "      <th>4</th>\n",
       "      <td>RBT_005</td>\n",
       "      <td>Assembly</td>\n",
       "      <td>CMP_992</td>\n",
       "      <td>Camera</td>\n",
       "      <td>92% (visual fit)</td>\n",
       "      <td>64.5</td>\n",
       "      <td>97.2</td>\n",
       "      <td>Unstable</td>\n",
       "      <td>1.8</td>\n",
       "      <td>No</td>\n",
       "      <td>No</td>\n",
       "      <td>No</td>\n",
       "      <td>8</td>\n",
       "      <td>35</td>\n",
       "      <td>3</td>\n",
       "      <td>32</td>\n",
       "      <td>654</td>\n",
       "    </tr>\n",
       "    <tr>\n",
       "      <th>...</th>\n",
       "      <td>...</td>\n",
       "      <td>...</td>\n",
       "      <td>...</td>\n",
       "      <td>...</td>\n",
       "      <td>...</td>\n",
       "      <td>...</td>\n",
       "      <td>...</td>\n",
       "      <td>...</td>\n",
       "      <td>...</td>\n",
       "      <td>...</td>\n",
       "      <td>...</td>\n",
       "      <td>...</td>\n",
       "      <td>...</td>\n",
       "      <td>...</td>\n",
       "      <td>...</td>\n",
       "      <td>...</td>\n",
       "      <td>...</td>\n",
       "    </tr>\n",
       "    <tr>\n",
       "      <th>495</th>\n",
       "      <td>RBT_496</td>\n",
       "      <td>Inspection</td>\n",
       "      <td>CMP_834</td>\n",
       "      <td>LIDAR</td>\n",
       "      <td>85.3 (°C)</td>\n",
       "      <td>66.3</td>\n",
       "      <td>96.2</td>\n",
       "      <td>Unstable</td>\n",
       "      <td>1.3</td>\n",
       "      <td>No</td>\n",
       "      <td>Yes</td>\n",
       "      <td>No</td>\n",
       "      <td>4</td>\n",
       "      <td>49</td>\n",
       "      <td>4</td>\n",
       "      <td>49</td>\n",
       "      <td>130</td>\n",
       "    </tr>\n",
       "    <tr>\n",
       "      <th>496</th>\n",
       "      <td>RBT_497</td>\n",
       "      <td>Inspection</td>\n",
       "      <td>CMP_851</td>\n",
       "      <td>LIDAR</td>\n",
       "      <td>92% (visual fit)</td>\n",
       "      <td>45.1</td>\n",
       "      <td>92.8</td>\n",
       "      <td>Unstable</td>\n",
       "      <td>2.3</td>\n",
       "      <td>No</td>\n",
       "      <td>Yes</td>\n",
       "      <td>Yes</td>\n",
       "      <td>5</td>\n",
       "      <td>43</td>\n",
       "      <td>8</td>\n",
       "      <td>56</td>\n",
       "      <td>124</td>\n",
       "    </tr>\n",
       "    <tr>\n",
       "      <th>497</th>\n",
       "      <td>RBT_498</td>\n",
       "      <td>Inspection</td>\n",
       "      <td>CMP_657</td>\n",
       "      <td>LIDAR</td>\n",
       "      <td>82.4 (°C)</td>\n",
       "      <td>75.4</td>\n",
       "      <td>98.7</td>\n",
       "      <td>Unstable</td>\n",
       "      <td>2.6</td>\n",
       "      <td>Yes</td>\n",
       "      <td>No</td>\n",
       "      <td>No</td>\n",
       "      <td>6</td>\n",
       "      <td>23</td>\n",
       "      <td>9</td>\n",
       "      <td>23</td>\n",
       "      <td>107</td>\n",
       "    </tr>\n",
       "    <tr>\n",
       "      <th>498</th>\n",
       "      <td>RBT_499</td>\n",
       "      <td>Assembly</td>\n",
       "      <td>CMP_562</td>\n",
       "      <td>Camera</td>\n",
       "      <td>98% (defect-free)</td>\n",
       "      <td>48.7</td>\n",
       "      <td>94.9</td>\n",
       "      <td>Stable</td>\n",
       "      <td>2.2</td>\n",
       "      <td>No</td>\n",
       "      <td>Yes</td>\n",
       "      <td>No</td>\n",
       "      <td>4</td>\n",
       "      <td>31</td>\n",
       "      <td>3</td>\n",
       "      <td>45</td>\n",
       "      <td>108</td>\n",
       "    </tr>\n",
       "    <tr>\n",
       "      <th>499</th>\n",
       "      <td>RBT_500</td>\n",
       "      <td>Assembly</td>\n",
       "      <td>CMP_465</td>\n",
       "      <td>LIDAR + Camera</td>\n",
       "      <td>75.8 (°C)</td>\n",
       "      <td>73.5</td>\n",
       "      <td>91.4</td>\n",
       "      <td>Stable</td>\n",
       "      <td>2.0</td>\n",
       "      <td>Yes</td>\n",
       "      <td>No</td>\n",
       "      <td>Yes</td>\n",
       "      <td>5</td>\n",
       "      <td>49</td>\n",
       "      <td>2</td>\n",
       "      <td>78</td>\n",
       "      <td>109</td>\n",
       "    </tr>\n",
       "  </tbody>\n",
       "</table>\n",
       "<p>500 rows × 17 columns</p>\n",
       "</div>"
      ],
      "text/plain": [
       "    Robot_ID   Task_Type Component_ID     Sensor_Type            Sensor_Data  \\\n",
       "0    RBT_001  Inspection      CMP_460           LIDAR  1 (obstacle detected)   \n",
       "1    RBT_002    Assembly      CMP_252         Thermal              85.3 (°C)   \n",
       "2    RBT_003  Inspection      CMP_248         Thermal       92% (visual fit)   \n",
       "3    RBT_004     Welding      CMP_433          Camera      98% (defect-free)   \n",
       "4    RBT_005    Assembly      CMP_992          Camera       92% (visual fit)   \n",
       "..       ...         ...          ...             ...                    ...   \n",
       "495  RBT_496  Inspection      CMP_834           LIDAR              85.3 (°C)   \n",
       "496  RBT_497  Inspection      CMP_851           LIDAR       92% (visual fit)   \n",
       "497  RBT_498  Inspection      CMP_657           LIDAR              82.4 (°C)   \n",
       "498  RBT_499    Assembly      CMP_562          Camera      98% (defect-free)   \n",
       "499  RBT_500    Assembly      CMP_465  LIDAR + Camera              75.8 (°C)   \n",
       "\n",
       "     Processing_Time (s)  Accuracy (%) Environmental_Status  \\\n",
       "0                   67.0          90.4               Stable   \n",
       "1                   71.2          98.1               Stable   \n",
       "2                   49.2          95.3             Unstable   \n",
       "3                   74.5          90.2               Stable   \n",
       "4                   64.5          97.2             Unstable   \n",
       "..                   ...           ...                  ...   \n",
       "495                 66.3          96.2             Unstable   \n",
       "496                 45.1          92.8             Unstable   \n",
       "497                 75.4          98.7             Unstable   \n",
       "498                 48.7          94.9               Stable   \n",
       "499                 73.5          91.4               Stable   \n",
       "\n",
       "     Energy_Consumption (kWh) Human_Intervention_Needed Obstacle_Detected  \\\n",
       "0                         2.2                        No               Yes   \n",
       "1                         2.7                       Yes                No   \n",
       "2                         2.4                        No                No   \n",
       "3                         2.4                       Yes                No   \n",
       "4                         1.8                        No                No   \n",
       "..                        ...                       ...               ...   \n",
       "495                       1.3                        No               Yes   \n",
       "496                       2.3                        No               Yes   \n",
       "497                       2.6                       Yes                No   \n",
       "498                       2.2                        No               Yes   \n",
       "499                       2.0                       Yes                No   \n",
       "\n",
       "    Defect_Detected  Interaction_Count  Steps_Walked  Objects_Recognized  \\\n",
       "0               Yes                  2            10                   2   \n",
       "1                No                  6            23                   4   \n",
       "2                No                  2            25                   3   \n",
       "3               Yes                  7            34                   5   \n",
       "4                No                  8            35                   3   \n",
       "..              ...                ...           ...                 ...   \n",
       "495              No                  4            49                   4   \n",
       "496             Yes                  5            43                   8   \n",
       "497              No                  6            23                   9   \n",
       "498              No                  4            31                   3   \n",
       "499             Yes                  5            49                   2   \n",
       "\n",
       "     Learning_Sessions  Energy_Consumption (kWh).1  \n",
       "0                   10                         100  \n",
       "1                   12                         123  \n",
       "2                   45                         321  \n",
       "3                   12                         456  \n",
       "4                   32                         654  \n",
       "..                 ...                         ...  \n",
       "495                 49                         130  \n",
       "496                 56                         124  \n",
       "497                 23                         107  \n",
       "498                 45                         108  \n",
       "499                 78                         109  \n",
       "\n",
       "[500 rows x 17 columns]"
      ]
     },
     "execution_count": 32,
     "metadata": {},
     "output_type": "execute_result"
    }
   ],
   "source": [
    "import pandas as pd\n",
    "df=pd.read_csv(\"robot_dataset(robot_dataset)_1.csv\")\n",
    "df"
   ]
  },
  {
   "cell_type": "code",
   "execution_count": 34,
   "id": "c552fa19-450a-43e3-953e-82364e7c4e6a",
   "metadata": {},
   "outputs": [
    {
     "name": "stdout",
     "output_type": "stream",
     "text": [
      "Average (mean) number of conversations the robot has daily:  5.51\n"
     ]
    }
   ],
   "source": [
    "avg_convos = df['Interaction_Count'].mean()\n",
    "print(\"Average (mean) number of conversations the robot has daily: \",avg_convos)"
   ]
  },
  {
   "cell_type": "code",
   "execution_count": 36,
   "id": "085c84e8-df09-4fe7-9960-d2b75c0a59cf",
   "metadata": {},
   "outputs": [
    {
     "name": "stdout",
     "output_type": "stream",
     "text": [
      "Total steps walked by the robot:  14379\n"
     ]
    }
   ],
   "source": [
    "tot_steps = df['Steps_Walked'].sum()\n",
    "print(\"Total steps walked by the robot: \",tot_steps)"
   ]
  },
  {
   "cell_type": "code",
   "execution_count": 38,
   "id": "75c5babb-4a8a-488a-8388-832ba3f2c599",
   "metadata": {},
   "outputs": [
    {
     "name": "stdout",
     "output_type": "stream",
     "text": [
      "Maximum energy consumption:  3.0\n",
      "Minimum energy consumption:  1.0\n"
     ]
    }
   ],
   "source": [
    "enmax = df['Energy_Consumption (kWh)'].max()\n",
    "enmin = df['Energy_Consumption (kWh)'].min()\n",
    "print(\"Maximum energy consumption: \",enmax)\n",
    "print(\"Minimum energy consumption: \",enmin)"
   ]
  },
  {
   "cell_type": "code",
   "execution_count": 42,
   "id": "958c828d-d633-4b9e-b8a3-831d52d2df50",
   "metadata": {},
   "outputs": [
    {
     "name": "stdout",
     "output_type": "stream",
     "text": [
      "Correlation between the number of steps walked and energy consumption:  0.0015478137393314158\n"
     ]
    }
   ],
   "source": [
    "swcorec= df['Steps_Walked'].corr(df['Energy_Consumption (kWh)'])\n",
    "print(\"Correlation between the number of steps walked and energy consumption: \",swcorec)"
   ]
  },
  {
   "cell_type": "code",
   "execution_count": 44,
   "id": "c4c5c037-7371-4c66-9ca3-fd283efa2492",
   "metadata": {},
   "outputs": [
    {
     "name": "stdout",
     "output_type": "stream",
     "text": [
      "Distribution Analysis of objects recognized daily:  count    500.000000\n",
      "mean       4.650000\n",
      "std        2.521948\n",
      "min        0.000000\n",
      "25%        2.750000\n",
      "50%        5.000000\n",
      "75%        7.000000\n",
      "max        9.000000\n",
      "Name: Objects_Recognized, dtype: float64\n"
     ]
    }
   ],
   "source": [
    "distobjrec = df['Objects_Recognized'].describe()\n",
    "print(\"Distribution Analysis of objects recognized daily: \",distobjrec)"
   ]
  },
  {
   "cell_type": "code",
   "execution_count": 46,
   "id": "d0bc5758-2aa9-427a-a532-fc7c8c5f687c",
   "metadata": {},
   "outputs": [
    {
     "name": "stdout",
     "output_type": "stream",
     "text": [
      "Variance in the number of learning sessions completed:  391.9422845691385\n"
     ]
    }
   ],
   "source": [
    "lsvar = df['Learning_Sessions'].var()\n",
    "print(\"Variance in the number of learning sessions completed: \",lsvar)"
   ]
  },
  {
   "cell_type": "code",
   "execution_count": 52,
   "id": "24a331f2-117b-46b0-aa6e-1b22d338a6cb",
   "metadata": {},
   "outputs": [
    {
     "name": "stdout",
     "output_type": "stream",
     "text": [
      " The product is a Laptop. It is priced at Rs14999.99 . Product is available? True. There are 20 in stock\n"
     ]
    }
   ],
   "source": [
    "item = \"Laptop\"\n",
    "price = 14999.99\n",
    "quantity = 20\n",
    "available = True\n",
    "print(f\" The product is a {item}. It is priced at Rs{price} . Product is available? {available}. There are {quantity} in stock\")"
   ]
  },
  {
   "cell_type": "code",
   "execution_count": 60,
   "id": "b22ea007-7bca-49ac-9062-549dc857991a",
   "metadata": {},
   "outputs": [
    {
     "name": "stdin",
     "output_type": "stream",
     "text": [
      "Enter number:  31\n"
     ]
    },
    {
     "name": "stdout",
     "output_type": "stream",
     "text": [
      "It is Positive\n"
     ]
    }
   ],
   "source": [
    "num=int(input(\"Enter number: \"))\n",
    "if num>0:\n",
    "    print(\"It is Positive\")\n",
    "elif num<0:\n",
    "    print(\"It is Negative\")\n",
    "else:\n",
    "    print(\"It is Zero\")"
   ]
  },
  {
   "cell_type": "code",
   "execution_count": 62,
   "id": "1dd30266-e50f-4120-bb6a-708127b4186c",
   "metadata": {},
   "outputs": [
    {
     "name": "stdin",
     "output_type": "stream",
     "text": [
      "Enter number:  15\n"
     ]
    },
    {
     "name": "stdout",
     "output_type": "stream",
     "text": [
      "15 * 1 = 15\n",
      "15 * 2 = 30\n",
      "15 * 3 = 45\n",
      "15 * 4 = 60\n",
      "15 * 5 = 75\n",
      "15 * 6 = 90\n",
      "15 * 7 = 105\n",
      "15 * 8 = 120\n",
      "15 * 9 = 135\n",
      "15 * 10 = 150\n"
     ]
    }
   ],
   "source": [
    "n=int(input(\"Enter number: \"))\n",
    "for i in range(1,11):\n",
    "    print(n,'*',i,'=',n*i)"
   ]
  },
  {
   "cell_type": "code",
   "execution_count": 72,
   "id": "92c8b9ff-d20c-440d-b1bc-53f1e796977c",
   "metadata": {},
   "outputs": [
    {
     "name": "stdout",
     "output_type": "stream",
     "text": [
      "Orange\n",
      "['Apple', 'Banana', 'Orange', 'Mango', 'Strawberry', 'Watermelon', 'Grapes']\n",
      "['Apple', 'Orange', 'Mango', 'Strawberry', 'Watermelon', 'Grapes']\n",
      "['Apple', 'Orange', 'Mango', 'Strawberry', 'Blueberry', 'Grapes']\n"
     ]
    }
   ],
   "source": [
    "fruits = ['Apple', 'Banana', 'Orange', 'Mango', 'Strawberry','Watermelon']\n",
    "# Operations\n",
    "print(fruits[2])\n",
    "fruits.append('Grapes')\n",
    "print(fruits)\n",
    "fruits.remove('Banana')\n",
    "print(fruits)\n",
    "fruits[4] = 'Blueberry'\n",
    "print(fruits)"
   ]
  },
  {
   "cell_type": "code",
   "execution_count": 76,
   "id": "259a27ac-20ff-42dd-ae2c-3ecb64eece43",
   "metadata": {},
   "outputs": [
    {
     "name": "stdout",
     "output_type": "stream",
     "text": [
      "40\n",
      "(50, 30, 40)\n",
      "5\n",
      "2\n"
     ]
    }
   ],
   "source": [
    "numtup = (10, 50, 30, 40, 50)\n",
    "# Operations\n",
    "print(numtup[3])\n",
    "print(numtup[1:4])\n",
    "print(len(numtup))\n",
    "print(numtup.count(50))"
   ]
  },
  {
   "cell_type": "code",
   "execution_count": 98,
   "id": "6805cd9f-027c-4f09-bf0e-58711b2c5c58",
   "metadata": {},
   "outputs": [
    {
     "name": "stdout",
     "output_type": "stream",
     "text": [
      "90\n",
      "{'Anne': 85, 'Belle': 90, 'Charlie': 78, 'David': 92}\n",
      "{'Anne': 88, 'Belle': 90, 'Charlie': 78, 'David': 92}\n",
      "{'Anne': 88, 'Belle': 90, 'David': 92}\n",
      "dict_values([88, 90, 92])\n",
      "dict_keys(['Anne', 'Belle', 'David'])\n"
     ]
    }
   ],
   "source": [
    "std_matmks = { 'Anne': 85, 'Belle': 90, 'Charlie': 78 }\n",
    "# Operations\n",
    "print(std_matmks['Belle'])\n",
    "std_matmks['David'] = 92  \n",
    "print(std_matmks)\n",
    "std_matmks['Anne'] = 88\n",
    "print(std_matmks)\n",
    "del std_matmks['Charlie']\n",
    "print(std_matmks)\n",
    "print(std_matmks.values())\n",
    "print(std_matmks.keys())"
   ]
  },
  {
   "cell_type": "code",
   "execution_count": 82,
   "id": "d3ca5068-718b-4c23-82e0-ea2f72cc03e8",
   "metadata": {},
   "outputs": [
    {
     "name": "stdout",
     "output_type": "stream",
     "text": [
      "{1, 2, 3, 4, 5, 6, 7, 8}\n",
      "{4, 5}\n",
      "{1, 2, 3}\n",
      "{1, 2, 3, 6, 7, 8}\n"
     ]
    }
   ],
   "source": [
    "set1 = {1, 2, 3, 4, 5}\n",
    "set2 = {4, 5, 6, 7, 8}\n",
    "# Operations\n",
    "union_set = set1 | set2  \n",
    "print(union_set)\n",
    "intersec_set = set1 & set2\n",
    "print(intersec_set)\n",
    "diff_set = set1 - set2 \n",
    "print(diff_set)\n",
    "sym_diff_set = set1 ^ set2\n",
    "print(sym_diff_set)"
   ]
  },
  {
   "cell_type": "code",
   "execution_count": 102,
   "id": "4beec4d7-bd2f-44af-8e02-128e2d4eb57e",
   "metadata": {},
   "outputs": [
    {
     "name": "stdout",
     "output_type": "stream",
     "text": [
      "The largest number from list:  97\n"
     ]
    }
   ],
   "source": [
    "def find_largest(numlist):\n",
    "    return max(numlist)\n",
    "sample_list=[24,65,97,64,52,86,32,78,57]\n",
    "print(\"The largest number from list: \",find_largest(sample_list))"
   ]
  },
  {
   "cell_type": "code",
   "execution_count": 108,
   "id": "105bb331-ffa6-47ab-946d-5a20ef285950",
   "metadata": {},
   "outputs": [
    {
     "name": "stdout",
     "output_type": "stream",
     "text": [
      "[4, 16, 36, 64, 100, 144, 196, 256, 324, 400]\n"
     ]
    }
   ],
   "source": [
    "evesqnum = [x**2 for x in range(1, 21) if x % 2 == 0]\n",
    "print(evesqnum)"
   ]
  },
  {
   "cell_type": "code",
   "execution_count": 116,
   "id": "891faa93-f8b1-4373-b654-25360d13d483",
   "metadata": {},
   "outputs": [
    {
     "name": "stdin",
     "output_type": "stream",
     "text": [
      "Enter first number:  23\n",
      "Enter second number:  8\n"
     ]
    },
    {
     "name": "stdout",
     "output_type": "stream",
     "text": [
      "Product of the two numbers:  184.0\n"
     ]
    }
   ],
   "source": [
    "product= lambda x,y: x*y\n",
    "a=float(input(\"Enter first number: \"))\n",
    "b=float(input(\"Enter second number: \"))\n",
    "print(\"Product of the two numbers: \",product(a,b))"
   ]
  },
  {
   "cell_type": "code",
   "execution_count": 128,
   "id": "fe351104-9cb7-42b1-9085-2c8367b7e18f",
   "metadata": {},
   "outputs": [
    {
     "name": "stdout",
     "output_type": "stream",
     "text": [
      "1D Array-\n",
      "[1 2 3 4 5 6 7] \n",
      "Shape: (7,), Dimensions: 1\n",
      "\n",
      "2D Array-\n",
      "[[1 2 3]\n",
      " [4 5 6]\n",
      " [7 8 9]] \n",
      "Shape: (3, 3), Dimensions: 2\n",
      "\n",
      "3D Array-\n",
      "[[[ 1  2]\n",
      "  [ 3  4]\n",
      "  [ 5  6]]\n",
      "\n",
      " [[ 7  8]\n",
      "  [ 9 10]\n",
      "  [11 12]]] \n",
      "Shape: (2, 3, 2), Dimensions: 3\n"
     ]
    }
   ],
   "source": [
    "import numpy as np\n",
    "\n",
    "arr1D = np.array([1,2,3,4,5,6,7])\n",
    "arr2D = np.array([[1, 2, 3], [4, 5, 6], [7, 8, 9]])\n",
    "arr3D = np.array([[[1, 2], [3, 4],[5, 6]], [[7, 8], [9, 10], [11, 12]]])\n",
    "\n",
    "print(f\"1D Array-\\n{arr1D} \\nShape: {arr1D.shape}, Dimensions: {arr1D.ndim}\\n\")\n",
    "print(f\"2D Array-\\n{arr2D} \\nShape: {arr2D.shape}, Dimensions: {arr2D.ndim}\\n\")\n",
    "print(f\"3D Array-\\n{arr3D} \\nShape: {arr3D.shape}, Dimensions: {arr3D.ndim}\")"
   ]
  },
  {
   "cell_type": "code",
   "execution_count": 190,
   "id": "7190af21-27ad-4dd0-953f-24fc756c25ae",
   "metadata": {},
   "outputs": [
    {
     "name": "stdout",
     "output_type": "stream",
     "text": [
      "[[ 73  90  18  41  16]\n",
      " [ 51  81  76  29   3]\n",
      " [  2  80  94   9  43]\n",
      " [ 96  94 100  45   6]\n",
      " [ 27   5  59  43  15]]\n",
      "Element at 2nd row, 3rd column: 76\n"
     ]
    }
   ],
   "source": [
    "import numpy as np\n",
    "array = np.random.randint(1, 101, size=(5, 5))\n",
    "print(array)\n",
    "# Array Indexing\n",
    "ele = array[1, 2]\n",
    "print(f\"Element at 2nd row, 3rd column: {ele}\")"
   ]
  },
  {
   "cell_type": "code",
   "execution_count": 186,
   "id": "fbb364c6-30c4-442c-b99f-520117cce1d7",
   "metadata": {},
   "outputs": [
    {
     "name": "stdout",
     "output_type": "stream",
     "text": [
      "[[ 1  2  3  4]\n",
      " [ 5  6  7  8]\n",
      " [ 9 10 11 12]\n",
      " [13 14 15 16]]\n",
      "Second row: [5 6 7 8]\n",
      "Fourth column: [ 4  8 12 16]\n",
      "2x3 subarray from bottom-right corner:\n",
      "[[10 11 12]\n",
      " [14 15 16]]\n"
     ]
    }
   ],
   "source": [
    "import numpy as np\n",
    "array = np.arange(1, 17).reshape(4, 4)\n",
    "print(array)\n",
    "# Slicing\n",
    "sr = array[1, :]\n",
    "print(f\"Second row: {sr}\")\n",
    "fc = array[:, 3]\n",
    "print(f\"Fourth column: {fc}\")\n",
    "subarr = array[2:, 1:]\n",
    "print(\"2x3 subarray from bottom-right corner:\")\n",
    "print(subarr)"
   ]
  },
  {
   "cell_type": "code",
   "execution_count": 176,
   "id": "6ededbac-ce5e-4dcd-aa87-16f97ced64e9",
   "metadata": {},
   "outputs": [
    {
     "name": "stdout",
     "output_type": "stream",
     "text": [
      "2D array of shape (6, 2): \n",
      "[[ 0  1]\n",
      " [ 2  3]\n",
      " [ 4  5]\n",
      " [ 6  7]\n",
      " [ 8  9]\n",
      " [10 11]]\n",
      "\n",
      "Reshaped 3D array of shape (2, 3, 2): \n",
      "[[[ 0  1]\n",
      "  [ 2  3]\n",
      "  [ 4  5]]\n",
      "\n",
      " [[ 6  7]\n",
      "  [ 8  9]\n",
      "  [10 11]]]\n",
      "\n",
      "Flattened Array: \n",
      "[ 0  1  2  3  4  5  6  7  8  9 10 11]\n"
     ]
    }
   ],
   "source": [
    "import numpy as np\n",
    "arr = np.arange(12).reshape(6, 2)\n",
    "print(\"2D array of shape (6, 2): \",arr,sep='\\n')\n",
    "print(\"\\nReshaped 3D array of shape (2, 3, 2): \",arr.reshape(2,3,2),sep='\\n')\n",
    "print(\"\\nFlattened Array: \", arr.flatten(),sep='\\n')"
   ]
  },
  {
   "cell_type": "code",
   "execution_count": 180,
   "id": "7d8638cf-ce8e-4f0b-859c-84a71b09035a",
   "metadata": {},
   "outputs": [
    {
     "name": "stdout",
     "output_type": "stream",
     "text": [
      "Array of shape (3,3):\n",
      "[[0 1 2]\n",
      " [3 4 5]\n",
      " [6 7 8]]\n",
      "\n",
      "1D Array of shape (1,3):\n",
      "[[0 1 2]]\n",
      "\n",
      "After adding using broadcasting:\n",
      "[[ 0  2  4]\n",
      " [ 3  5  7]\n",
      " [ 6  8 10]]\n"
     ]
    }
   ],
   "source": [
    "import numpy as np\n",
    "arr1 = np.arange(9).reshape(3, 3)\n",
    "arr2 = np.arange(3).reshape(1, 3)\n",
    "res= arr1 + arr2\n",
    "print(\"Array of shape (3,3):\",arr1,\"\\n1D Array of shape (1,3):\", arr2,\"\\nAfter adding using broadcasting:\", res, sep='\\n')"
   ]
  },
  {
   "cell_type": "code",
   "execution_count": 198,
   "id": "c72072fe-f636-4919-90fe-233efc8ccace",
   "metadata": {},
   "outputs": [
    {
     "name": "stdout",
     "output_type": "stream",
     "text": [
      "Element-wise\n",
      "\n",
      "Addition: \n",
      "[[ 81 125  91 190 139]\n",
      " [ 68 102 102  84 133]]\n",
      "\n",
      "Subtraction: \n",
      "[[-31  31  43  -6 -13]\n",
      " [ 22 -28  66 -44  53]]\n",
      "\n",
      "Multiplication: \n",
      "[[1400 3666 1608 9016 4788]\n",
      " [1035 2405 1512 1280 3720]]\n",
      "\n",
      "Division: \n",
      "[[0.44642857 1.65957447 2.79166667 0.93877551 0.82894737]\n",
      " [1.95652174 0.56923077 4.66666667 0.3125     2.325     ]]\n"
     ]
    }
   ],
   "source": [
    "import numpy as np\n",
    "A= np.array([[25,78,67,92,63],[45,37,84,20,93]])\n",
    "B= np.array([[56,47,24,98,76],[23,65,18,64,40]])\n",
    "print(\"Element-wise\")\n",
    "print(\"\\nAddition: \",A+B,sep='\\n')\n",
    "print(\"\\nSubtraction: \",A-B,sep='\\n')\n",
    "print(\"\\nMultiplication: \",A*B,sep='\\n')\n",
    "print(\"\\nDivision: \",A/B,sep='\\n')"
   ]
  },
  {
   "cell_type": "code",
   "execution_count": 216,
   "id": "a550c79d-de52-4005-ae7f-c4e0df550d5f",
   "metadata": {},
   "outputs": [
    {
     "name": "stdout",
     "output_type": "stream",
     "text": [
      "     Name  DA  PTRP  AI  Total Grade\n",
      "0  Adrien  95    88  90    273     A\n",
      "1    Dave  78    79  84    241     B\n",
      "2  Monica  92    91  87    270     A\n"
     ]
    }
   ],
   "source": [
    "import pandas as pd\n",
    "data = {\n",
    "    'Name': ['Adrien', 'Dave', 'Monica'],\n",
    "    'DA': [95, 78, 92],\n",
    "    'PTRP': [88, 79, 91],\n",
    "    'AI': [90, 84, 87]\n",
    "}\n",
    "df = pd.DataFrame(data)\n",
    "df['Total'] = df[['DA', 'PTRP', 'AI']].sum(axis=1)\n",
    "df['Grade'] = df['Total'].apply(lambda x: 'A' if x >= 270 else 'B' if x >= 240 else 'C' if x >= 210 else 'D')\n",
    "print(df)"
   ]
  },
  {
   "cell_type": "code",
   "execution_count": null,
   "id": "f3c3c80c-25bf-45aa-973b-2959ae1b1252",
   "metadata": {},
   "outputs": [],
   "source": []
  }
 ],
 "metadata": {
  "kernelspec": {
   "display_name": "Python [conda env:base] *",
   "language": "python",
   "name": "conda-base-py"
  },
  "language_info": {
   "codemirror_mode": {
    "name": "ipython",
    "version": 3
   },
   "file_extension": ".py",
   "mimetype": "text/x-python",
   "name": "python",
   "nbconvert_exporter": "python",
   "pygments_lexer": "ipython3",
   "version": "3.12.7"
  }
 },
 "nbformat": 4,
 "nbformat_minor": 5
}
