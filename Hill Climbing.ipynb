{
 "cells": [
  {
   "cell_type": "code",
   "execution_count": 5,
   "id": "16b35813-6aff-4ee0-b2d2-7d98d2c0d466",
   "metadata": {},
   "outputs": [
    {
     "name": "stdout",
     "output_type": "stream",
     "text": [
      "Best solution found: x = 1.9580, f(x) = 3.9982\n"
     ]
    }
   ],
   "source": [
    "import random\n",
    "\n",
    "# Example function: f(x) = -x^2 + 4x\n",
    "def objective_function(x):\n",
    "    return -x**2 + 4*x\n",
    "\n",
    "def hill_climbing(starting_point, step_size, max_iterations):\n",
    "    current_point = starting_point\n",
    "    current_value = objective_function(current_point)\n",
    "    \n",
    "    for _ in range(max_iterations):\n",
    "        # Generate neighbor points by moving left or right\n",
    "        neighbors = [current_point + step_size, current_point - step_size]\n",
    "        \n",
    "        # Evaluate neighbors and choose the best one\n",
    "        next_point = max(neighbors, key=objective_function)\n",
    "        \n",
    "        # If the next point is better than the current point, move to the next point\n",
    "        if objective_function(next_point) > current_value:\n",
    "            current_point = next_point\n",
    "            current_value = objective_function(current_point)\n",
    "        else:\n",
    "            # If no better neighbor is found, stop the search (local optimum)\n",
    "            break\n",
    "            \n",
    "    return current_point, current_value\n",
    "\n",
    "# Parameters\n",
    "starting_point = random.uniform(-10, 10)  # Random starting point\n",
    "step_size = 0.1  # Step size to explore neighbors\n",
    "max_iterations = 100  # Maximum iterations to run the algorithm\n",
    "\n",
    "# Run the hill climbing algorithm\n",
    "best_point, best_value = hill_climbing(starting_point, step_size, max_iterations)\n",
    "\n",
    "print(f\"Best solution found: x = {best_point:.4f}, f(x) = {best_value:.4f}\")\n"
   ]
  },
  {
   "cell_type": "code",
   "execution_count": 7,
   "id": "0aff9275-8ef2-4645-bd3c-c7a6796732f8",
   "metadata": {},
   "outputs": [
    {
     "name": "stdout",
     "output_type": "stream",
     "text": [
      "Path from A to D: ['A', 'D']\n"
     ]
    }
   ],
   "source": [
    "import random\n",
    "\n",
    "# Define the graph (nodes and edges with weights)\n",
    "graph = {\n",
    "    'A': {'B': 7, 'C': 10, 'D': 6},\n",
    "    'B': {'A': 7, 'C': 15, 'D': 15},\n",
    "    'C': {'A': 10, 'B': 15, 'D': 10},\n",
    "    'D': {'A': 6, 'B': 15, 'C': 10}\n",
    "}\n",
    "\n",
    "def hill_climbing(start, goal, graph):\n",
    "    current_node = start\n",
    "    path = [current_node]\n",
    "    \n",
    "    while current_node != goal:\n",
    "        neighbors = graph.get(current_node, {})\n",
    "        if not neighbors:\n",
    "            return None  # No path found\n",
    "        \n",
    "        # Evaluate the neighbors based on the cost to reach the goal\n",
    "        next_node = min(neighbors, key=lambda x: graph[current_node][x])\n",
    "        \n",
    "        # Choose the next node if it leads closer to the goal\n",
    "        path.append(next_node)\n",
    "        current_node = next_node\n",
    "\n",
    "        # Check if we've reached the goal\n",
    "        if current_node == goal:\n",
    "            break\n",
    "\n",
    "    return path\n",
    "\n",
    "# Example usage\n",
    "start_node = 'A'\n",
    "goal_node = 'D'\n",
    "path = hill_climbing(start_node, goal_node, graph)\n",
    "\n",
    "if path:\n",
    "    print(f\"Path from {start_node} to {goal_node}: {path}\")\n",
    "else:\n",
    "    print(\"No path found\")\n"
   ]
  },
  {
   "cell_type": "code",
   "execution_count": null,
   "id": "9a41aa41-0760-4871-88a1-18ecb90a02e2",
   "metadata": {},
   "outputs": [],
   "source": []
  }
 ],
 "metadata": {
  "kernelspec": {
   "display_name": "Python 3 (ipykernel)",
   "language": "python",
   "name": "python3"
  },
  "language_info": {
   "codemirror_mode": {
    "name": "ipython",
    "version": 3
   },
   "file_extension": ".py",
   "mimetype": "text/x-python",
   "name": "python",
   "nbconvert_exporter": "python",
   "pygments_lexer": "ipython3",
   "version": "3.12.7"
  }
 },
 "nbformat": 4,
 "nbformat_minor": 5
}
